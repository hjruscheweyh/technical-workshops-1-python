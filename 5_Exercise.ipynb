{
 "cells": [
  {
   "cell_type": "markdown",
   "id": "9f66ab7f",
   "metadata": {},
   "source": [
    "## Exercise:\n",
    "\n",
    "With the today's tutorial you have all tools on hand to write your first own tool in Python. You will be counting :)\n",
    "\n",
    "The file `14_0903_05_40cm.10.pe.fasta.m8` has 50k alignments of ~1000 reads against the mTAGs database.\n",
    "\n",
    "Your exercise:\n",
    "\n",
    "- Read the file (with `open`, or `csv`)\n",
    "- Group the alignments by read (dictionary)\n",
    "- Remove all alignments with low confidence (<97% percid and <80% coverage) (loops, if...else)\n",
    "- Pick the best alignment for each read based on percent identity and coverage  (loops, sum)\n",
    "- Sum up how many reads are assigned to each reference (dictionary)\n"
   ]
  },
  {
   "cell_type": "code",
   "execution_count": null,
   "id": "df88ea72",
   "metadata": {},
   "outputs": [],
   "source": []
  }
 ],
 "metadata": {
  "kernelspec": {
   "display_name": "Python 3 (ipykernel)",
   "language": "python",
   "name": "python3"
  },
  "language_info": {
   "codemirror_mode": {
    "name": "ipython",
    "version": 3
   },
   "file_extension": ".py",
   "mimetype": "text/x-python",
   "name": "python",
   "nbconvert_exporter": "python",
   "pygments_lexer": "ipython3",
   "version": "3.8.12"
  }
 },
 "nbformat": 4,
 "nbformat_minor": 5
}
