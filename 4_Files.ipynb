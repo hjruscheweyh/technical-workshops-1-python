{
 "cells": [
  {
   "cell_type": "markdown",
   "id": "ed644c99",
   "metadata": {},
   "source": [
    "### Functions and Modules\n",
    "\n",
    "Your tool will, in most cases, read, transform and write data. We have learned how to transform data (e.g loops with if...else) but not how to read and write. This is fairly simple in Python\n",
    "\n",
    "\n",
    "#### Read File"
   ]
  },
  {
   "cell_type": "code",
   "execution_count": 1,
   "id": "c4d64495",
   "metadata": {},
   "outputs": [
    {
     "name": "stdout",
     "output_type": "stream",
     "text": [
      "53359\n",
      "xleqcuysdv.28736646.1\tsilva_138_complink_cons_otu_38034\t100.0\t100.0\t1\t200\t760\t959\t200\t200\t0\t0\t-\n",
      "READ\tREFERENCE\tALIGNMENT_COVERAGE\tPERCENT_IDENTITY\t....\n"
     ]
    }
   ],
   "source": [
    "# there is a file in the folder with alignments named 14_0903_05_40cm.10.pe.fasta.m8\n",
    "\n",
    "lines = []\n",
    "with open('14_0903_05_40cm.10.pe.fasta.m8') as handle:  # Open a context to read the file\n",
    "    for line in handle:                                 # actually read the file line by line\n",
    "        lines.append(line.strip())                      # The strip removes whitespace and new lines from the end of the line\n",
    "print(len(lines)) # ~50k lines\n",
    "print(lines[0])\n",
    "print('READ\\tREFERENCE\\tALIGNMENT_COVERAGE\\tPERCENT_IDENTITY\\t....')"
   ]
  },
  {
   "cell_type": "markdown",
   "id": "90661c07",
   "metadata": {},
   "source": [
    "#### Transform"
   ]
  },
  {
   "cell_type": "code",
   "execution_count": 3,
   "id": "6df37bee",
   "metadata": {},
   "outputs": [
    {
     "name": "stdout",
     "output_type": "stream",
     "text": [
      "['xleqcuysdv.28736646.1', 'silva_138_complink_cons_otu_38034', '100.0', '100.0', '1', '200', '760', '959', '200', '200', '0', '0', '-']\n",
      "100.0\n",
      "53359 alignments before filtering\n",
      "13308 alignments after filtering\n"
     ]
    }
   ],
   "source": [
    "# Lets remove all alignments that have a percent identity < 99.0\n",
    "\n",
    "# split will split a string by a certain character. Here we split by tab with will create a list. \n",
    "for line in lines:\n",
    "    alignment = line.split('\\t')\n",
    "    print(alignment)\n",
    "    percent_identity = float(alignment[3])\n",
    "    print(percent_identity)\n",
    "    break\n",
    "    \n",
    "\n",
    "    \n",
    "filtered_lines = []\n",
    "# Lets do that for all lines\n",
    "for line in lines:\n",
    "    alignment = line.split('\\t')\n",
    "    percent_identity = float(alignment[3])\n",
    "    if percent_identity < 99.0:\n",
    "        continue\n",
    "    else:\n",
    "        filtered_lines.append(line)\n",
    "\n",
    "print(f'{len(lines)} alignments before filtering\\n{len(filtered_lines)} alignments after filtering')\n"
   ]
  },
  {
   "cell_type": "markdown",
   "id": "5d56eed6",
   "metadata": {},
   "source": [
    "#### Write File"
   ]
  },
  {
   "cell_type": "code",
   "execution_count": 4,
   "id": "bb8c4e31",
   "metadata": {},
   "outputs": [],
   "source": [
    "with open('14_0903_05_40cm.10.pe.fasta.filtered.m8', 'w') as handle: # With 'w' we indicate that we want to write to this file. Careful, will overwrite\n",
    "    for line in filtered_lines:\n",
    "        handle.write(f'{line}\\n')\n",
    "    "
   ]
  },
  {
   "cell_type": "markdown",
   "id": "787f985f",
   "metadata": {},
   "source": [
    "#### Advanced\n",
    "\n",
    "There is no need to parse a tab/comma separated file by hand. You can also use the `csv` package. It will be faster and you can specify casting in advance."
   ]
  },
  {
   "cell_type": "code",
   "execution_count": null,
   "id": "d9630784",
   "metadata": {},
   "outputs": [],
   "source": []
  }
 ],
 "metadata": {
  "kernelspec": {
   "display_name": "Python 3 (ipykernel)",
   "language": "python",
   "name": "python3"
  },
  "language_info": {
   "codemirror_mode": {
    "name": "ipython",
    "version": 3
   },
   "file_extension": ".py",
   "mimetype": "text/x-python",
   "name": "python",
   "nbconvert_exporter": "python",
   "pygments_lexer": "ipython3",
   "version": "3.8.12"
  }
 },
 "nbformat": 4,
 "nbformat_minor": 5
}
