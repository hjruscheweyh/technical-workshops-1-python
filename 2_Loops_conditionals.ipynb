{
 "cells": [
  {
   "cell_type": "markdown",
   "id": "2fa11082",
   "metadata": {},
   "source": [
    "### Loops and Conditionals\n",
    "\n",
    "More advanced data types such as list, tuples, sets and dictionaries can be used to store multiple values. In most cases you will want to iterate over them to select, filter or change values. For this we can use loops. Python has `while` and `for` loops. `for` loops usually suffice unless you want to work on a recursive problem which we will not cover. "
   ]
  },
  {
   "cell_type": "code",
   "execution_count": null,
   "id": "b7135dae",
   "metadata": {},
   "outputs": [],
   "source": [
    "# Create a list with 1000 random values between 0 and 1000\n",
    "import random\n",
    "random_list = [random.randint(0,1000) for x in range(1000)]\n",
    "print(random_list[0:10])\n",
    "\n",
    "# basic for loop\n",
    "for value in random_list[0:10]: # lets just use the first 10 values for now\n",
    "    # indents are used to tell python that you're within some context. The current context is a loop\n",
    "    print(value)\n",
    "print('--------')\n",
    "\n",
    "\n",
    "# Loops get more interesting once you can apply conditionals like if...else\n",
    "# Here we print even numbers only\n",
    "for value in random_list[0:10]:\n",
    "    if value % 2 == 0:\n",
    "        print(value)\n",
    "print('--------')\n",
    "\n",
    "\n",
    "# We can also count how many even numbers there are in total\n",
    "total_even_numbers = 0\n",
    "for value in random_list:\n",
    "    if value % 2 == 0:\n",
    "        total_even_numbers += 1 # Do you know this operator? What does it do?\n",
    "        \n",
    "print(f'Total even numbers: {total_even_numbers}') # String formatting. Intuitive syntax. Please ask questions if you want to know more."
   ]
  },
  {
   "cell_type": "markdown",
   "id": "709e2b2e",
   "metadata": {},
   "source": [
    "#### Exercise (10 min):\n",
    "\n",
    "Create a random list with 100k values ranging between 0 and 1000.\n",
    "Then check how often which value has been generated. \n",
    "\n",
    "**Tip:** Key:value pairs "
   ]
  },
  {
   "cell_type": "code",
   "execution_count": null,
   "id": "5678ca7c",
   "metadata": {},
   "outputs": [],
   "source": [
    "# room for your exercise"
   ]
  },
  {
   "cell_type": "markdown",
   "id": "06a9acec",
   "metadata": {},
   "source": [
    "#### Loops continued\n",
    "\n",
    "There are a few additional features you can use within (some even outside) of loops"
   ]
  },
  {
   "cell_type": "code",
   "execution_count": null,
   "id": "4114b6dd",
   "metadata": {},
   "outputs": [],
   "source": [
    "# Create a list with 1000 random values between 0 and 1000\n",
    "import random\n",
    "random_list = [random.randint(0,1000) for x in range(1000)]\n",
    "\n",
    "# Exit a loop\n",
    "for value in random_list:\n",
    "    print(value)\n",
    "    if value > 500:\n",
    "        break\n",
    "print('--------')\n",
    "\n",
    "\n",
    "# Ignore a certain value in a loop. Here we ignore all values > 10\n",
    "for value in random_list:\n",
    "    if value > 10:\n",
    "        continue\n",
    "    else:\n",
    "        print(value)\n",
    "print('--------')       \n",
    "\n",
    "\n",
    "# create a list with values from 0 to n-1. Here n=10\n",
    "for x in range(10): \n",
    "    print(x)\n",
    "print('--------')\n",
    "\n",
    "\n",
    "\n",
    "# nested loops\n",
    "for x in range(5):\n",
    "    for y in range(5):\n",
    "        print(x, y, x*y)"
   ]
  },
  {
   "cell_type": "markdown",
   "id": "88904108",
   "metadata": {},
   "source": [
    "#### Loops without Loops\n",
    "\n",
    "Python can be fast when you write as little python as possible :).\n",
    "\n",
    "One example of that are loops, maps and comprehensions.\n"
   ]
  },
  {
   "cell_type": "code",
   "execution_count": null,
   "id": "4f32237d",
   "metadata": {},
   "outputs": [],
   "source": [
    "# Create a list with 1000 random values between 0 and 1000\n",
    "import random\n",
    "random_list = [random.randint(0,1000) for x in range(1000)]\n",
    "\n",
    "\n",
    "# Get all values > 100\n",
    "## Standard loops --> can be slow\n",
    "standard_loop_result = []\n",
    "for value in random_list:\n",
    "    if value > 100:\n",
    "        standard_loop_result.append(value)\n",
    "print(standard_loop_result[:10])\n",
    "print('--------')\n",
    "\n",
    "\n",
    "## Comprehension --> Faster but blocking\n",
    "comp_loop_results = [value for value in random_list if value > 100]\n",
    "print(comp_loop_results[:10])\n",
    "print('--------')\n",
    "\n",
    "\n",
    "## MapReduce --> fast and not blocking\n",
    "mapreduce_loop_results = filter(lambda value: value > 100, random_list)\n",
    "print(mapreduce_loop_results) ## Strange result? What does this mean???"
   ]
  },
  {
   "cell_type": "markdown",
   "id": "3ccac0b2",
   "metadata": {},
   "source": [
    "#### Advanced\n",
    "\n",
    "\n",
    "There're plenty of additional loop/iteration functions covered in the `itertool` module (https://pymotw.com/3/itertools/index.html). For example you can create a crossproduct (like a nested loop), make joins, concatenate lists,...\n",
    "\n",
    "These methods are written in C (with a python API) which means that they will be much faster compared any hand-written loop.\n",
    "\n"
   ]
  },
  {
   "cell_type": "code",
   "execution_count": null,
   "id": "d185a8ab",
   "metadata": {},
   "outputs": [],
   "source": []
  }
 ],
 "metadata": {
  "kernelspec": {
   "display_name": "Python 3 (ipykernel)",
   "language": "python",
   "name": "python3"
  },
  "language_info": {
   "codemirror_mode": {
    "name": "ipython",
    "version": 3
   },
   "file_extension": ".py",
   "mimetype": "text/x-python",
   "name": "python",
   "nbconvert_exporter": "python",
   "pygments_lexer": "ipython3",
   "version": "3.8.12"
  }
 },
 "nbformat": 4,
 "nbformat_minor": 5
}
