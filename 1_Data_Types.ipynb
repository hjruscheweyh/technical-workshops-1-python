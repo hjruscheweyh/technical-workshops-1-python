{
 "cells": [
  {
   "cell_type": "markdown",
   "id": "17e6454f",
   "metadata": {},
   "source": [
    "### (Collection) Data Types\n",
    "\n",
    "So far we have learned about simple data types like integers or strings. There is another class of data types that allows you to store multiple values of varying data types.\n",
    "\n",
    "We will first introduce the different types and then discuss their advantages and disadvantages.\n",
    "\n",
    "\n",
    "#### List\n",
    "\n",
    "A list is a **ordered**, **changeable** collection data type that allows you to store **duplicated** values.\n"
   ]
  },
  {
   "cell_type": "code",
   "execution_count": null,
   "id": "499207de",
   "metadata": {},
   "outputs": [],
   "source": [
    "# All values of the same data type\n",
    "thislist = ['1', '2', '3'] \n",
    "print(thislist)\n",
    "print('--------')\n",
    "\n",
    "# Different data types\n",
    "thislist = ['1', 2.0, 3] \n",
    "print(thislist)\n",
    "print('--------')\n",
    "\n",
    "# Change the list after creation    --> changeable\n",
    "thislist.append('last element') \n",
    "print(thislist)\n",
    "print('--------')\n",
    "\n",
    "# Append the same value to the list         --> duplication allowed \n",
    "thislist.append('last element') \n",
    "print(thislist)\n"
   ]
  },
  {
   "cell_type": "markdown",
   "id": "e8ae48a4",
   "metadata": {},
   "source": [
    "Lists can be accessed by using the position (index) of the element"
   ]
  },
  {
   "cell_type": "code",
   "execution_count": null,
   "id": "6f861add",
   "metadata": {},
   "outputs": [],
   "source": [
    "thislist = ['1', '2', '3', 'last element', 'last element'] \n",
    "# Get the first and fourth element\n",
    "print(thislist[0])\n",
    "print(thislist[3])\n",
    "print('--------')\n",
    "\n",
    "# Get the last element\n",
    "print(thislist[-1])\n",
    "print('--------')\n",
    "\n",
    "# slice and dice\n",
    "print(thislist[1:3])\n",
    "print('--------')\n",
    "\n",
    "# Reverse the list --> Not very intuitive but powerful\n",
    "\n",
    "print(thislist[::-1])\n",
    "print('--------')\n",
    "\n",
    "# Get every second element in the list \n",
    "\n",
    "print(thislist[::2])\n",
    "print('--------')\n",
    "\n",
    "# length of the list\n",
    "\n",
    "print(len(thislist))\n",
    "print('--------')\n",
    "\n",
    "# Remove element\n",
    "\n",
    "thislist.remove('last element') # --> Only removes the first element that matches\n",
    "print(thislist)\n",
    "print('--------')\n",
    "\n",
    "# sort list\n",
    "otherlist = [2,4,3,1]\n",
    "print(sorted(otherlist))\n",
    "print('--------')\n",
    "\n",
    "# Join two lists\n",
    "\n",
    "print(thislist + otherlist)\n"
   ]
  },
  {
   "cell_type": "markdown",
   "id": "21ea7bcc",
   "metadata": {},
   "source": [
    "#### Tuples\n",
    "Tuples are similar to lists in the sense that they can store multiple values of different types.\n",
    "\n",
    "A tuple is a **ordered**, **unchangeable** collection data type that does allow you to store **duplicate** values.\n",
    "\n",
    "#### Tuple - Exercise:\n",
    "\n",
    "- Try the same functions as for the list. What works, what doesnt?"
   ]
  },
  {
   "cell_type": "code",
   "execution_count": null,
   "id": "73b914e0",
   "metadata": {},
   "outputs": [],
   "source": [
    "thistuple = ('1', '3', 4) # Same as for lists but with round brackets"
   ]
  },
  {
   "cell_type": "markdown",
   "id": "552bc710",
   "metadata": {},
   "source": [
    "#### Sets\n",
    "Sets are similar to lists in the sense that they can store multiple values of different types.\n",
    "\n",
    "A set is an **unordered**, **changeable** collection data type that does **not** allow you to store **duplicate** values."
   ]
  },
  {
   "cell_type": "code",
   "execution_count": null,
   "id": "a7fe4e3c",
   "metadata": {},
   "outputs": [],
   "source": [
    "thisset = {'1', '3', 4} # Compare brackets to tuples and lists\n",
    "print(thisset) # Order might change as a tuple is unordered\n",
    "print('--------')\n",
    "\n",
    "# add (not append) a new value to the set. append is for ordered entities\n",
    "thisset.add(5)\n",
    "print(thisset)\n",
    "print('--------')\n",
    "\n",
    "# Add the same value again\n",
    "thisset.add(5)\n",
    "print(thisset) # --> Nothing changed. No duplicates allowed\n",
    "print('--------')\n",
    "\n",
    "# Get first element\n",
    "# thisset[0]    \n",
    "# Just joking, the set is unordered, there is no first or last :)\n",
    "# Access to set will be explained once we re getting to loops.\n",
    "\n",
    "\n",
    "#check if a variable is part of the set\n",
    "print('1'  in thisset)  \n",
    "print('-1'  in thisset)\n",
    "print('--------')\n",
    "\n",
    "# Fancy methods (difference, union, intersection,...) --> Very fast\n",
    "thisset2 = {'1', 2, 3}\n",
    "print(thisset.intersection(thisset2))\n"
   ]
  },
  {
   "cell_type": "markdown",
   "id": "e1341525",
   "metadata": {},
   "source": [
    "#### Dictionaries\n",
    "\n",
    "\n",
    "A dictionary is an **unordered**, **changeable** collection data type that does **not** allow you to store **duplicate** values. The main difference to sets is that you can store `key:value` pairs. In a way this is a simple `table`."
   ]
  },
  {
   "cell_type": "code",
   "execution_count": null,
   "id": "4121e840",
   "metadata": {},
   "outputs": [],
   "source": [
    "import pprint # Just a module which can be used to do pretty printing\n",
    "\n",
    "thisdict = {\n",
    "  'Hans': 'Germany',\n",
    "  'Carine': 'Brazil',\n",
    "  'Fabienne': 'Switzerland'\n",
    "}\n",
    "pprint.pprint(thisdict) # each key (e.g. Hans) has a value e.g. Germany\n",
    "print('--------')\n",
    "\n",
    "\n",
    "# Values can be anything\n",
    "thisdict['Viola'] = ['Germany', 'Hungary']\n",
    "pprint.pprint(thisdict)\n",
    "print('--------')\n",
    "\n",
    "\n",
    "# When Hans changes his passport he loses the german citizenship\n",
    "thisdict['Hans'] = 'Sweden' # Duplication not allowed\n",
    "pprint.pprint(thisdict)\n",
    "print('--------')\n",
    "\n",
    "\n",
    "# Accession to dictionary usually means that you want the value (You know the key already)\n",
    "pprint.pprint(thisdict['Fabienne'])\n",
    "print('--------')\n",
    "\n",
    "# You can also get all keys or all values\n",
    "pprint.pprint(thisdict.keys())\n",
    "pprint.pprint(thisdict.values())\n",
    "print('--------')\n",
    "\n",
    "\n",
    "# Is Dominic also in the dictionary?\n",
    "print('Dominic' in thisdict)"
   ]
  },
  {
   "cell_type": "markdown",
   "id": "8ddc5838",
   "metadata": {},
   "source": [
    "#### Why so many data types?\n",
    "\n",
    "Every collection data type has advantages and disadvantages:\n",
    "\n",
    "- A list is indexed. You have very fast access to any value when accessed by index\n",
    "- A set does deduplication for you. Also checking whether a value is in a set by value is really fast\n",
    "- A dictionary is basically a set where you can have more values assigned to a single key\n",
    "\n",
    "Lets check performance"
   ]
  },
  {
   "cell_type": "code",
   "execution_count": null,
   "id": "aba3ee07",
   "metadata": {},
   "outputs": [],
   "source": [
    "# Check the performance of the in statement\n",
    "import timeit\n",
    "import random\n",
    "\n",
    "print(timeit.timeit('0 in biglist', 'import random; biglist = [random.randint(0,1000) for x in range(1000)]', number=1000000))\n",
    "print(timeit.timeit('0 in bigset', 'import random; bigset = set([random.randint(0,1000) for x in range(1000)])', number=1000000))\n",
    "\n"
   ]
  },
  {
   "cell_type": "code",
   "execution_count": null,
   "id": "a464ed16",
   "metadata": {},
   "outputs": [],
   "source": [
    "# Check the performance of the in statement versus index access\n",
    "import timeit\n",
    "import random\n",
    "\n",
    "print(timeit.timeit('biglist[4]', 'import random; biglist = [random.randint(0,1000) for x in range(1000)]', number=1000000))\n",
    "print(timeit.timeit('0 in bigset', 'import random; bigset = set([random.randint(0,1000) for x in range(1000)])', number=1000000))\n",
    "\n",
    "\n"
   ]
  },
  {
   "cell_type": "markdown",
   "id": "39d32bc2",
   "metadata": {},
   "source": [
    "- Lists and tuples (Ordered) are very fast with positional access but slow when searching for values.\n",
    "- Dictionaries and Sets (Unordered) dont have positional access but are very slow with random access searching for values"
   ]
  },
  {
   "cell_type": "markdown",
   "id": "7017d7bb",
   "metadata": {},
   "source": [
    "#### Advanced\n",
    "\n",
    "These data types will be enough for like 99% of the \"non-table\" work you will do in Python. Some extensions of these data types are implemented in the `collections` module (https://pymotw.com/3/collections/index.html). "
   ]
  },
  {
   "cell_type": "code",
   "execution_count": null,
   "id": "f56f21e8",
   "metadata": {},
   "outputs": [],
   "source": []
  }
 ],
 "metadata": {
  "kernelspec": {
   "display_name": "Python 3 (ipykernel)",
   "language": "python",
   "name": "python3"
  },
  "language_info": {
   "codemirror_mode": {
    "name": "ipython",
    "version": 3
   },
   "file_extension": ".py",
   "mimetype": "text/x-python",
   "name": "python",
   "nbconvert_exporter": "python",
   "pygments_lexer": "ipython3",
   "version": "3.8.12"
  }
 },
 "nbformat": 4,
 "nbformat_minor": 5
}
