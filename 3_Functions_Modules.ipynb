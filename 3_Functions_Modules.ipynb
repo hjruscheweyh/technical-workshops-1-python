{
 "cells": [
  {
   "cell_type": "markdown",
   "id": "911d472c",
   "metadata": {},
   "source": [
    "### Functions and Modules\n",
    "\n",
    "Functions are a great way to package logic that belongs together into discrete code blocks. Modules are python packages that you can now use in your own code (similar to packages in R). We will use only core python packages. But you can search/find packages at the central python package index (https://pypi.org/)."
   ]
  },
  {
   "cell_type": "markdown",
   "id": "1f574e58",
   "metadata": {},
   "source": [
    "#### Functions"
   ]
  },
  {
   "cell_type": "code",
   "execution_count": null,
   "id": "74ebe5da",
   "metadata": {},
   "outputs": [],
   "source": [
    "\n",
    "def sum_list_values(l): # The def keyword defines a function\n",
    "    total = 0\n",
    "    for value in l:\n",
    "        total += value\n",
    "    return total       # Here you specify the return value\n",
    "\n",
    "\n",
    "\n",
    "import random\n",
    "random_list = [random.randint(0,1000) for x in range(1000)]\n",
    "print(sum_list_values(random_list)) # Here we call the function that we wrote on top.\n"
   ]
  },
  {
   "cell_type": "markdown",
   "id": "95281233",
   "metadata": {},
   "source": [
    "#### Exercise (10 min):\n",
    "\n",
    "Create a list with random 100k values ranging between 0 and 1000.\n",
    "Then check how often which value has been generated. \n",
    "\n",
    "**Tip:** Key:value pairs \n",
    "\n",
    "Same exercise as before. But now you encapsulate the code in a function"
   ]
  },
  {
   "cell_type": "code",
   "execution_count": null,
   "id": "4ddef02e",
   "metadata": {},
   "outputs": [],
   "source": [
    "# Space for your exercise"
   ]
  },
  {
   "cell_type": "markdown",
   "id": "689e816a",
   "metadata": {},
   "source": [
    "#### Modules"
   ]
  },
  {
   "cell_type": "code",
   "execution_count": null,
   "id": "82638307",
   "metadata": {},
   "outputs": [],
   "source": [
    "# lets import a module\n",
    "import random\n",
    "\n",
    "# now access the functions\n",
    "random.randint(0,1000)\n",
    "\n",
    "\n",
    "# Some help on functions/modules\n",
    "\n",
    "import math\n",
    "math?\n",
    "# math.sin? try this one\n",
    "\n",
    "# Very useful page with all relevant core python modules --> https://pymotw.com/3/\n"
   ]
  },
  {
   "cell_type": "markdown",
   "id": "05effa17",
   "metadata": {},
   "source": [
    "#### Classes\n",
    "\n",
    "Python also offers to use classes to encapsulate functions and data. We will not cover Classes in this tutorial as you would only get in touch with then once you start writing your own stand-alone software. For that we will/might have another workshop."
   ]
  },
  {
   "cell_type": "code",
   "execution_count": null,
   "id": "78b5871f",
   "metadata": {},
   "outputs": [],
   "source": []
  }
 ],
 "metadata": {
  "kernelspec": {
   "display_name": "Python 3 (ipykernel)",
   "language": "python",
   "name": "python3"
  },
  "language_info": {
   "codemirror_mode": {
    "name": "ipython",
    "version": 3
   },
   "file_extension": ".py",
   "mimetype": "text/x-python",
   "name": "python",
   "nbconvert_exporter": "python",
   "pygments_lexer": "ipython3",
   "version": "3.8.12"
  }
 },
 "nbformat": 4,
 "nbformat_minor": 5
}
